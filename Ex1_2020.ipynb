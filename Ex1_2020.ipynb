{
 "cells": [
  {
   "cell_type": "markdown",
   "source": [
    "### Guinzburg Nathanael 305091357"
   ],
   "metadata": {}
  },
  {
   "cell_type": "markdown",
   "source": [
    "### Import packages"
   ],
   "metadata": {}
  },
  {
   "cell_type": "code",
   "execution_count": 5,
   "source": [
    "import numpy as np\n",
    "import timeit"
   ],
   "outputs": [],
   "metadata": {}
  },
  {
   "cell_type": "markdown",
   "source": [
    "Q1) a) Implement a function named `mat_mul`, which takes two matrices $A$ and $B$ as parameters and returns the result of matrix multiplication $C = A * B$.  \n",
    "Your function should assert that the number of dimensions of each of the two matrices $A$ and $B$ is exactly 2.  \n",
    "In addition, your function should assert that $A$ number of columns is equal to $B$ number of rows, in order for the matrix multiplication operation to be well defined.  \n",
    "The function should take a third parameter `method` of type `str`, which can take on one of only three values:\n",
    "- 'for loop'\n",
    "- 'sum product'\n",
    "- 'numpy dot'  \n",
    "  \n",
    "Let the matrices shapes be $A_{mxn}$, $B_{nxp}$, and $C_{mxp}$.  \n",
    "In the first **'for loop'** method, you will have three nested for loops $i \\in \\{0, m-1\\}$, $j \\in \\{0, p-1\\}$, and $k \\in \\{0, n-1\\}$, such that $C(i,j) = \\sum_{k=1}^n{A(i,k) \\cdot B(k,j)}$.  \n",
    "In the second **'sum product'** method you will get rid of the $k$ for loop, and implement the sum of products with the numpy functions `np.sum` and `np.multiply`.  \n",
    "Finally, in the third **'numpy dot'** method you will simply call numpy's `np.dot` function."
   ],
   "metadata": {}
  },
  {
   "cell_type": "code",
   "execution_count": 6,
   "source": [
    "def mat_mul(A, B, method):\n",
    "    \n",
    "    # assert that {A} {B} dimensions are equal\n",
    "    if not A.ndim == B.ndim == 2:\n",
    "        return 0\n",
    "\n",
    "    row_A, col_A = np.shape(A)\n",
    "    row_B, col_B = np.shape(B)\n",
    "    C = np.zeros((row_A, col_B))\n",
    "    \n",
    "    if method == 'for loop':\n",
    "        # iterate through rows of {A}\n",
    "        for i in range(row_A):\n",
    "            # iterate through columns of {B}\n",
    "            for j in range(col_B):\n",
    "                # iterate through rows of {B}\n",
    "                for k in range(row_B):\n",
    "                    C[i][j] += A[i][k] * B[k][j]\n",
    "    elif method == 'sum product':\n",
    "        # iterate through rows of {A}\n",
    "        for i in range(row_A):\n",
    "            # iterate through columns of {B}\n",
    "            for j in range(col_B):\n",
    "                C[i][j] = np.sum(np.multiply(A[i, :], B[:, j]))\n",
    "    elif method == 'numpy dot':\n",
    "        C = A.dot(B)\n",
    "    \n",
    "    return C\n"
   ],
   "outputs": [],
   "metadata": {}
  },
  {
   "cell_type": "markdown",
   "source": [
    "b) Test the correctness of your function on small matrices:  \n",
    "if your implementation is correct then you should obtain the same results, using the three different methods.  \n",
    "Create a matrix A of shape(2,4) filled with numbers from 1 to 8.  \n",
    "Create a matrix B of shape(4,2) filled with numbers from 9 to 16.  \n",
    "Call the `mat_mul` function 3 times, each time using a different method.  \n",
    "Print the input matrices $A$ and $B$, and the resulting matrices $C1$, $C2$, and $C3$."
   ],
   "metadata": {}
  },
  {
   "cell_type": "code",
   "execution_count": 7,
   "source": [
    "# Create a matrix A of shape(2,4) filled with numbers from 1 to 8\n",
    "A = np.arange(1,9).reshape(2,4)\n",
    "# Create a matrix B of shape(4,2) filled with numbers from 9 to 16\n",
    "B = np.arange(9,17).reshape(4,2)\n",
    "# Call the mat_mul function using the method 'for loop' and store the result in C1.\n",
    "C1 = mat_mul(A, B, 'for loop')\n",
    "# Call the mat_mul function using the method 'sum product' and store the result in C2.\n",
    "C2 = mat_mul(A, B, 'sum product')\n",
    "# Call the mat_mul function using the method 'numpy dot' and store the result in C3.\n",
    "C3 = mat_mul(A, B, 'numpy dot')\n",
    "\n",
    "print('A =\\n', A)\n",
    "print('B =\\n', B)\n",
    "print('C (for loop) =\\n', C1)\n",
    "print('C (sum product) =\\n', C2)\n",
    "print('C (numpy.dot) =\\n', C3)"
   ],
   "outputs": [
    {
     "output_type": "stream",
     "name": "stdout",
     "text": [
      "A =\n",
      " [[1 2 3 4]\n",
      " [5 6 7 8]]\n",
      "B =\n",
      " [[ 9 10]\n",
      " [11 12]\n",
      " [13 14]\n",
      " [15 16]]\n",
      "C (for loop) =\n",
      " [[130. 140.]\n",
      " [322. 348.]]\n",
      "C (sum product) =\n",
      " [[130. 140.]\n",
      " [322. 348.]]\n",
      "C (numpy.dot) =\n",
      " [[130 140]\n",
      " [322 348]]\n"
     ]
    }
   ],
   "metadata": {}
  },
  {
   "cell_type": "markdown",
   "source": [
    "c) Now compare the performance or running time of your function's three different methods.  \n",
    "For this prurpose you will generate random square matrices $A_{nxn}$ and $B_{nxn}$, with increasing size $n$: $n = [10, 50, ..., 100]$.  \n",
    "Read the documentation about the magic fuction `%timeit`, and inside the loop over $n$ measure and compare the running-times of the 3 different methods for increasing matrix size $n$.  \n",
    "Describe and explain your results.  \n",
    "Note: the output you obtain does not have to perfectly match the ouput below."
   ],
   "metadata": {}
  },
  {
   "cell_type": "code",
   "execution_count": 4,
   "source": [
    "np.random.seed(123)\n",
    "for n in [10, 50, 100]:\n",
    "    \n",
    "    print('\\nn =', n)\n",
    "    \n",
    "    # create matrix A of shape (n,n) with numbers randomly sampled from a normal distribution\n",
    "    A = np.random.normal(loc=0, scale=1, size=(n,n))\n",
    "   \n",
    "    # create matrix B of shape (n,n) with numbers randomly sampled from a normal distribution\n",
    "    B = np.random.normal(loc=0, scale=1, size=(n,n))\n",
    "        \n",
    "    print('for loop:')\n",
    "    # measure the running-time of mat_mul function with 'for loop' method, using the %timeit function\n",
    "    %timeit mat_mul(A, B, 'for loop')\n",
    "    \n",
    "    print('sum product:')\n",
    "    # measure the running-time of mat_mul function with 'sum product' method, using the %timeit function\n",
    "    %timeit mat_mul(A, B, 'sum product')\n",
    "\n",
    "    print('numpy dot:')\n",
    "    # measure the running-time of mat_mul function with 'numpy dot' method, using the %timeit function\n",
    "    %timeit mat_mul(A, B, 'numpy dot')\n",
    "    "
   ],
   "outputs": [
    {
     "output_type": "stream",
     "name": "stdout",
     "text": [
      "\n",
      "n = 10\n",
      "for loop:\n",
      "1.65 ms ± 42.4 µs per loop (mean ± std. dev. of 7 runs, 1000 loops each)\n",
      "sum product:\n",
      "2.1 ms ± 13.8 µs per loop (mean ± std. dev. of 7 runs, 100 loops each)\n",
      "numpy dot:\n",
      "9 µs ± 500 ns per loop (mean ± std. dev. of 7 runs, 100000 loops each)\n",
      "\n",
      "n = 50\n",
      "for loop:\n",
      "203 ms ± 9.95 ms per loop (mean ± std. dev. of 7 runs, 10 loops each)\n",
      "sum product:\n",
      "57.2 ms ± 3.44 ms per loop (mean ± std. dev. of 7 runs, 10 loops each)\n",
      "numpy dot:\n",
      "213 µs ± 53.9 µs per loop (mean ± std. dev. of 7 runs, 1000 loops each)\n",
      "\n",
      "n = 100\n",
      "for loop:\n",
      "1.63 s ± 69.5 ms per loop (mean ± std. dev. of 7 runs, 1 loop each)\n",
      "sum product:\n",
      "218 ms ± 856 µs per loop (mean ± std. dev. of 7 runs, 1 loop each)\n",
      "numpy dot:\n",
      "375 µs ± 25.3 µs per loop (mean ± std. dev. of 7 runs, 1000 loops each)\n"
     ]
    }
   ],
   "metadata": {}
  },
  {
   "cell_type": "markdown",
   "source": [
    "Q2) a) Implement a function named `describe_num`, which takes a 1D numpy array $x$, and returns a dictionary $d$ of decriptive statistics: **count**, **min**, **mean**, **std** (standard deviation), **25%**, **50%** (same as median), and **75%** percentile, and **max**, using the appropriate `numpy` functions / methods. "
   ],
   "metadata": {}
  },
  {
   "cell_type": "code",
   "execution_count": 50,
   "source": [
    "def describe_num(x):\n",
    "    return {\n",
    "        \"count\": len(x),\n",
    "        \"min\": np.amin(x),\n",
    "        \"mean\": np.mean(x),\n",
    "        \"std\": np.std(x),\n",
    "        \"25%\": np.percentile(x, 25),\n",
    "        \"50%\": np.percentile(x, 50),\n",
    "        \"75%\": np.percentile(x, 75),\n",
    "        \"max\": np.amax(x)\n",
    "    }\n"
   ],
   "outputs": [],
   "metadata": {}
  },
  {
   "cell_type": "markdown",
   "source": [
    "b) Test the correctness of your function"
   ],
   "metadata": {}
  },
  {
   "cell_type": "code",
   "execution_count": 51,
   "source": [
    "x = np.arange(0, 101) ** 2\n",
    "d = describe_num(x)\n",
    "[print(f'{key}\\t{value}') for key, value in d.items()];"
   ],
   "outputs": [
    {
     "output_type": "stream",
     "name": "stdout",
     "text": [
      "count\t101\n",
      "min\t0\n",
      "mean\t3350.0\n",
      "std\t3012.943743251772\n",
      "25%\t625.0\n",
      "50%\t2500.0\n",
      "75%\t5625.0\n",
      "max\t10000\n"
     ]
    }
   ],
   "metadata": {}
  },
  {
   "cell_type": "markdown",
   "source": [
    "c) Implement a function named `describe_cat`, which takes a 1D numpy array $x$ of categorical values, and returns a dictionary $d$ of decriptive statistics: **count**, **unique**, **top**, and **freq**, using the appropriate `numpy` functions / methods.   \n",
    "**unique** is the number of unique categories.  \n",
    "**top** is the most frequent category.  \n",
    "**freq** is the number of occurrences of the most frequent category."
   ],
   "metadata": {}
  },
  {
   "cell_type": "code",
   "execution_count": 199,
   "source": [
    "def describe_cat(x):\n",
    "    unique, pos = np.unique(x, return_inverse=True)\n",
    "    return {\n",
    "        \"count\": len(x),\n",
    "        \"unique\": unique,\n",
    "        \"top\": unique[np.bincount(pos).argmax()],\n",
    "        \"freq\": np.amax(np.bincount(pos))\n",
    "    }\n"
   ],
   "outputs": [],
   "metadata": {}
  },
  {
   "cell_type": "markdown",
   "source": [
    "d) Test the correctness of your function"
   ],
   "metadata": {}
  },
  {
   "cell_type": "code",
   "execution_count": 200,
   "source": [
    "x = np.array(['A', 'B', 'B', 'C', 'A', 'A', 'A', 'C', 'A', 'C'])\n",
    "# call the function describe_cat with argument x\n",
    "res = describe_cat(x)\n",
    "# print the result\n",
    "print(res)"
   ],
   "outputs": [
    {
     "output_type": "stream",
     "name": "stdout",
     "text": [
      "{'count': 10, 'unique': array(['A', 'B', 'C'], dtype='<U1'), 'top': 'A', 'freq': 5}\n"
     ]
    }
   ],
   "metadata": {}
  }
 ],
 "metadata": {
  "kernelspec": {
   "name": "python3",
   "display_name": "Python 3.8.8 64-bit ('base': conda)"
  },
  "language_info": {
   "codemirror_mode": {
    "name": "ipython",
    "version": 3
   },
   "file_extension": ".py",
   "mimetype": "text/x-python",
   "name": "python",
   "nbconvert_exporter": "python",
   "pygments_lexer": "ipython3",
   "version": "3.8.8"
  },
  "interpreter": {
   "hash": "ff7cd53fa521416f747fd04bf045a3929dd721afcffd3014b6ec76a710237165"
  }
 },
 "nbformat": 4,
 "nbformat_minor": 2
}